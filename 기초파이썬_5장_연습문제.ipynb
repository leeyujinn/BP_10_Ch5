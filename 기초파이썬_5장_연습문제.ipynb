{
  "nbformat": 4,
  "nbformat_minor": 0,
  "metadata": {
    "colab": {
      "provenance": [],
      "collapsed_sections": [],
      "authorship_tag": "ABX9TyP+ZrtZ6CuLu+LKyYH6bMXe",
      "include_colab_link": true
    },
    "kernelspec": {
      "name": "python3",
      "display_name": "Python 3"
    },
    "language_info": {
      "name": "python"
    }
  },
  "cells": [
    {
      "cell_type": "markdown",
      "metadata": {
        "id": "view-in-github",
        "colab_type": "text"
      },
      "source": [
        "<a href=\"https://colab.research.google.com/github/leeyujinn/BP_10_Ch5/blob/main/%EA%B8%B0%EC%B4%88%ED%8C%8C%EC%9D%B4%EC%8D%AC_5%EC%9E%A5_%EC%97%B0%EC%8A%B5%EB%AC%B8%EC%A0%9C.ipynb\" target=\"_parent\"><img src=\"https://colab.research.google.com/assets/colab-badge.svg\" alt=\"Open In Colab\"/></a>"
      ]
    },
    {
      "cell_type": "markdown",
      "source": [
        "1. 다음 프로그램의 출력은 무엇인가?"
      ],
      "metadata": {
        "id": "YK817caB-fo_"
      }
    },
    {
      "cell_type": "code",
      "source": [
        "age = 20 #age라는 변수에 20을 저장\n",
        "if age < 20: #'age가 20 미만이면'이라는 조건문 생성\n",
        "  print('20살 미만') #참일시 20살 미만을 출력\n",
        "else :\n",
        "    print('20살 이상') #거짓일시 20살 이상을 출력"
      ],
      "metadata": {
        "colab": {
          "base_uri": "https://localhost:8080/"
        },
        "id": "AnqBNJE7-ivW",
        "outputId": "5739b3f9-9534-49d2-a80e-d1074e3e79fb"
      },
      "execution_count": null,
      "outputs": [
        {
          "output_type": "stream",
          "name": "stdout",
          "text": [
            "20살 이상\n"
          ]
        }
      ]
    },
    {
      "cell_type": "markdown",
      "source": [
        "2. 1번 문제에서 age가 30이상이고 50이하인 것을 체크하려면 어떻게 하여야 하는가?"
      ],
      "metadata": {
        "id": "i8lYemWX_61A"
      }
    },
    {
      "cell_type": "code",
      "source": [
        "age = 20 #age라는 변수에 20을 저장\n",
        "if age >= 30 and age <= 50: #'age가 30이상이거나 50이하라면'이라는 조건문 생성\n",
        "  print('30살 이상이고 50살 이하') #조건이 참일 시 30살 이상이고 50살 이하라고 출력"
      ],
      "metadata": {
        "id": "5L1uhwMiALfI"
      },
      "execution_count": null,
      "outputs": []
    },
    {
      "cell_type": "markdown",
      "source": [
        "3. 사용자에게 현재 온도를 질문하고 온도가 25도 이상이면 반바지를 추천하고 25도 미만이면 긴바지를 추천하는 프로그램을 작성해보자."
      ],
      "metadata": {
        "id": "Z57ZEEefAXF_"
      }
    },
    {
      "cell_type": "code",
      "source": [
        "temp = int(input(\"현재 온도를 입력하시오:\")) #사용자로부터 변수 temp(현재 온도) 값을 받음\n",
        "\n",
        "if temp >= 25: #'현재 온도가 25도 이상이면'이라는는 조건문 생성\n",
        "  print(\"반바지를 입으세요\") #참일시 반바지를 입으세요 출력\n",
        "else:\n",
        "    print(\"긴바지를 입으세요\") #거짓일시 긴바지를 입으세요 출력"
      ],
      "metadata": {
        "colab": {
          "base_uri": "https://localhost:8080/"
        },
        "id": "ZxX4esgCAgy5",
        "outputId": "3f71d005-fec1-4515-ab73-8f07a1d9d1a3"
      },
      "execution_count": null,
      "outputs": [
        {
          "output_type": "stream",
          "name": "stdout",
          "text": [
            "현재 온도를 입력하시오:10\n",
            "긴바지를 입으세요\n"
          ]
        }
      ]
    },
    {
      "cell_type": "markdown",
      "source": [
        "4. 학생의 시험 점수를 물어보고 시험 점수가 90점 이상이면 A, 80점 이상이면 B, 70점 이상이면 C, 60점 이상이면 D, 그외의 점수이면 F를 학점으로 주는 프로그램을 작성하라."
      ],
      "metadata": {
        "id": "EKpkAffxBJ2H"
      }
    },
    {
      "cell_type": "code",
      "source": [
        "score = int(input(\"성적을 입력하시오:\")) #사용자로부터 변수 score(성적) 값을 받음\n",
        "\n",
        "if score >= 90: #'score가 90 이상이면'이라는 조건문 생성\n",
        "  print(\"A학점입니다.\") #참일시 A학점입니다.를 출력(거짓일시 다음 조건으로 넘어감)\n",
        "elif score >= 80: #'score가 80 이상이면'이라는 조건문 생성\n",
        "  print(\"B학점입니다.\") #참일시 B학점입니다.를 출력(거짓일시 다음 조건으로 넘어감)\n",
        "elif score >= 70: #'score가 70 이상이면'이라는 조건문 생성\n",
        "  print(\"C학점입니다.\") #참일시 C학점입니다.를 출력(거짓일시 다음 조건으로 넘어감)\n",
        "elif score >= 60: #'score가 60 이상이면'이라는 조건문 생성\n",
        "  print(\"D학점입니다.\") #참일시 D학점입니다.를 출력\n",
        "else:\n",
        "  print(\"F학점입니다.\") #거짓일시 F학점입니다.를 출력"
      ],
      "metadata": {
        "colab": {
          "base_uri": "https://localhost:8080/"
        },
        "id": "rCqsg0UkBWRv",
        "outputId": "be92e77c-33a2-493a-874e-19bfda25ee30"
      },
      "execution_count": 6,
      "outputs": [
        {
          "output_type": "stream",
          "name": "stdout",
          "text": [
            "성적을 입력하시오:99\n",
            "A학점입니다.\n"
          ]
        }
      ]
    },
    {
      "cell_type": "markdown",
      "source": [
        "5. 난수를 사용하여 1부터 100 사이의 숫자를 사용하는 뺄셈 문제를 생성하고 사용자에게 물어본 후에 사용자의 답변이 올바른지를 검사하는 프로그램을 작성하라."
      ],
      "metadata": {
        "id": "qnm5oGSLCoLA"
      }
    },
    {
      "cell_type": "code",
      "source": [
        "import random #random 라이브러리를 가져옴\n",
        "x = random.randint(1,100) #1부터 100까지의 숫자가 랜덤으로 나오며 이를 변수x에 저장\n",
        "y = random.randint(1,100) #1부터 100까지의 숫자가 랜덤으로 나오며 이를 변수y에 저장\n",
        "\n",
        "ans = int(input(str(x)+\"-\"+str(y)+\"=\")) #변수x-변수y의 답을 사용자에게 물어봄\n",
        "\n",
        "if ans == x-y: #사용자가 말한 답과 실제 답이 일치한다면이라는 조건을 줌\n",
        "  print(\"맞았습니다.\") #참일시 맞았습니다.를 출력\n",
        "else:\n",
        "  print(\"틀렸습니다\") #거짓일시 틀렸습니다.를 출력"
      ],
      "metadata": {
        "colab": {
          "base_uri": "https://localhost:8080/"
        },
        "id": "DzEgPl8OCySv",
        "outputId": "81a7536c-c50f-45e9-c112-e45e82750a78"
      },
      "execution_count": 1,
      "outputs": [
        {
          "output_type": "stream",
          "name": "stdout",
          "text": [
            "24-94=-70\n",
            "맞았습니다.\n"
          ]
        }
      ]
    },
    {
      "cell_type": "markdown",
      "source": [
        "6. 사용자로부터 정수를 받아서 이 정수가 2와 3으로 나누어덜어질 수 있는지를 출력하라."
      ],
      "metadata": {
        "id": "8V-JP33bDido"
      }
    },
    {
      "cell_type": "code",
      "source": [
        "n = int(input(\"정수를 입력하시오:\")) #사용자로부터 정수를 받음\n",
        "\n",
        "if n%2==0 and n%3==0: #'사용자가 말한 정수가 2와 3으로 나누어 떨어진다면'이라는 조건 생성\n",
        "  print(\"2와 3으로 나누어 떨어집니다.\") #참일시 2와 3으로 나누어 떨어집니다.를 출력\n",
        "else :\n",
        "  print(\"2와 3으로 나누어 떨어지지 않습니다.\") #거짓일시 2와 3으로 나누어 떨어지지 않습니다.를 출력"
      ],
      "metadata": {
        "colab": {
          "base_uri": "https://localhost:8080/"
        },
        "id": "StneObwqDqsA",
        "outputId": "43adebb1-1cf0-4c1a-8b4c-633bbcb2e862"
      },
      "execution_count": 2,
      "outputs": [
        {
          "output_type": "stream",
          "name": "stdout",
          "text": [
            "정수를 입력하시오:6\n",
            "2와 3으로 나누어 떨어집니다.\n"
          ]
        }
      ]
    },
    {
      "cell_type": "markdown",
      "source": [
        "7. 2자리 숫자로 이루어진 복권이 있다. 사용자가 가지고 있는 복권 번호가 2자리 모두 일치하면 100만원을 받는다. 2자리 중에서 하나만 일치하면 50만원을 받는다. 하나도 일치하지 않으면 상금은 없다. 복권 당첨 번호는 난수로 생성하고 사용자의 입력에 따라서 상금이 얼마인지를 출력하는 프로그램을 작성하라."
      ],
      "metadata": {
        "id": "AVPwYfELELAA"
      }
    },
    {
      "cell_type": "code",
      "source": [
        "import random #random 라이브러리를 가져옴\n",
        "solution = random.randint(0,99) #0부터 99까지의 숫자가 랜덤으로 나오게 함\n",
        "\n",
        "user = int(input(\"복권번호를 입력하시오(0에서 99사이):\")) #사용자에게 복권번호를 받음\n",
        "\n",
        "digit1 = solution // 10 #랜덤한 숫자의 첫째 자리수(십의자리)\n",
        "digit2 = solution % 10 #랜덤한 숫자의 둘째 자리수(일의자리)\n",
        "\n",
        "u_digit1 = user // 10 #사용자가 입력한 숫자의 첫째 자리수(십의자리)\n",
        "u_digit2 = user % 10 #사용자가 입력한 숫자의 둘째 자리수(일의자리)\n",
        "\n",
        "print(\"당첨번호는\", solution, \"입니다.\") #당첨번호는 solution(랜덤한 값) 입니다.를 출력\n",
        "\n",
        "if(digit1 == u_digit1 and digit2 == u_digit2): #랜덤한 숫자와 사용자가 입력한 십의자리수와 일의자리수가 일치하면(두 수가 같다면)이라는 조건문\n",
        "  print(\"상금은 100만원입니다.\") #참일시 상금은 100만원입니다.를 출력, 거짓일시 다음 조건문으로 이동\n",
        "elif(digit1 == u_digit1 #랜덤 숫자와 사용자가 입력한 숫자의 첫째자리수가 같거나\n",
        "     or digit1 == u_digit2 #랜덤 숫자의 첫째자리수와 사용자가 입력한 숫자의 둘째자리수가 같은 것 혹은\n",
        "     or digit2 == u_digit1 #랜덤 숫자의 둘째자리수와 사용자가 입력한 숫자의 첫째자리수가 같거나\n",
        "     or digit2 == u_digit2): #랜덤 숫자와 사용자가 입력한 숫자의 둘째자리수가 같다면이라는 조건문\n",
        "  print(\"상금은 50만원입니다.\") #참일시 상금은 50만원입니다.를 출력 \n",
        "else :\n",
        "  print(\"상금은 없습니다.\") #거짓일시 상금은 없습니다.를 출력"
      ],
      "metadata": {
        "colab": {
          "base_uri": "https://localhost:8080/"
        },
        "id": "hSzORJtaEs2Q",
        "outputId": "77ab1e06-4bec-4d00-d543-c143b0dbc008"
      },
      "execution_count": 5,
      "outputs": [
        {
          "output_type": "stream",
          "name": "stdout",
          "text": [
            "복권번호를 입력하시오(0에서 99사이):42\n",
            "당첨번호는 94 입니다.\n",
            "상금은 50만원입니다.\n"
          ]
        }
      ]
    }
  ]
}